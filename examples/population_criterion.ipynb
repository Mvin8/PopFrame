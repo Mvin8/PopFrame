{
 "cells": [
  {
   "cell_type": "code",
   "execution_count": 1,
   "metadata": {},
   "outputs": [],
   "source": [
    "# import osmnx as ox\n",
    "import pandas as pd\n",
    "import geopandas as gpd\n",
    "import networkx as nx\n",
    "import numpy as np\n",
    "import warnings\n",
    "import sys\n",
    "import os\n",
    "warnings.filterwarnings(\"ignore\")\n",
    "sys.stderr = open(os.devnull, 'w')\n",
    "\n",
    "# local crs\n",
    "local_crs = 32636"
   ]
  },
  {
   "cell_type": "code",
   "execution_count": 2,
   "metadata": {},
   "outputs": [],
   "source": [
    "from popframe.models.region import Region\n",
    "\n",
    "region_model = Region.from_pickle('data/Ленинградская область.pickle')"
   ]
  },
  {
   "cell_type": "code",
   "execution_count": 3,
   "metadata": {},
   "outputs": [
    {
     "data": {
      "text/plain": [
       "[{'project': None,\n",
       "  'average_population_density': 15.3,\n",
       "  'total_population': 35197,\n",
       "  'score': 4.0,\n",
       "  'interpretation': 'Территория имеет хорошие демографические характеристики, что способствует ее активному развитию.'}]"
      ]
     },
     "execution_count": 3,
     "metadata": {},
     "output_type": "execute_result"
    }
   ],
   "source": [
    "from popframe.method.territory_evaluation import TerritoryEvaluation\n",
    "from popframe.models.region import Region\n",
    "from shapely.geometry import shape\n",
    "\n",
    "\n",
    "geojson_data = {\n",
    "    \"geometry\": {\n",
    "        \"type\": \"Polygon\",\n",
    "        \"coordinates\": [\n",
    "            [\n",
    "                [29.982879431084967, 59.363554752593245],\n",
    "                [29.982879431084967, 59.322083801173534],\n",
    "                [30.109075699649765, 59.322083801173534],\n",
    "                [30.109075699649765, 59.363554752593245],\n",
    "                [29.982879431084967, 59.363554752593245]\n",
    "            ]\n",
    "        ]\n",
    "    },\n",
    "    \"properties\": {},\n",
    "    \"type\": \"Feature\"\n",
    "}\n",
    "\n",
    "# Преобразуем словарь в геометрию\n",
    "geom = shape(geojson_data['geometry'])\n",
    "\n",
    "# Создаем GeoDataFrame\n",
    "territories_gdf = gpd.GeoDataFrame([{'geometry': geom}], crs='EPSG:4326')\n",
    "\n",
    "evaluation = TerritoryEvaluation(region=region_model)\n",
    "# Пример вызова функции\n",
    "results = evaluation.population_criterion(territories=territories_gdf)\n",
    "results"
   ]
  }
 ],
 "metadata": {
  "kernelspec": {
   "display_name": "Python 3.10.11 ('.venv': venv)",
   "language": "python",
   "name": "python3"
  },
  "language_info": {
   "codemirror_mode": {
    "name": "ipython",
    "version": 3
   },
   "file_extension": ".py",
   "mimetype": "text/x-python",
   "name": "python",
   "nbconvert_exporter": "python",
   "pygments_lexer": "ipython3",
   "version": "3.10.11"
  },
  "orig_nbformat": 4,
  "vscode": {
   "interpreter": {
    "hash": "d84d888e8c1aa976b1aefaf298f847d99d3cc79ef99c572526352e6a5929ae47"
   }
  }
 },
 "nbformat": 4,
 "nbformat_minor": 2
}
